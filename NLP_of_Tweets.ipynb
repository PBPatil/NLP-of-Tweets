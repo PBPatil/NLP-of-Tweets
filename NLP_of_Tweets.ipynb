{
 "cells": [
  {
   "cell_type": "code",
   "execution_count": 1,
   "metadata": {},
   "outputs": [],
   "source": [
    "import json\n",
    "import re\n",
    "import numpy as np\n",
    "import pandas as pd\n",
    "import matplotlib.pyplot as plt\n",
    "import seaborn as sns\n",
    "sns.set_style('white')\n",
    "%matplotlib inline\n",
    "\n",
    "import warnings\n",
    "warnings.filterwarnings(\"ignore\")"
   ]
  },
  {
   "cell_type": "code",
   "execution_count": 2,
   "metadata": {},
   "outputs": [],
   "source": [
    "tweets_data_path = 'twitter_data.txt'\n",
    "\n",
    "tweets_data = []\n",
    "tweets_file = open(tweets_data_path, \"r\")\n",
    "for line in tweets_file:\n",
    "    try:\n",
    "        tweet = json.loads(line)\n",
    "        tweets_data.append(tweet)\n",
    "    except:\n",
    "        continue"
   ]
  },
  {
   "cell_type": "code",
   "execution_count": 3,
   "metadata": {},
   "outputs": [
    {
     "name": "stdout",
     "output_type": "stream",
     "text": [
      "79359\n"
     ]
    }
   ],
   "source": [
    "print len(tweets_data)\n",
    "# print (tweets_data)"
   ]
  },
  {
   "cell_type": "code",
   "execution_count": 4,
   "metadata": {},
   "outputs": [],
   "source": [
    "tweets = pd.DataFrame()\n",
    "tweets['text'] = map(lambda tweet:tweet['text'] if 'text' in tweet else ' ', tweets_data)\n",
    "tweets['lang'] = map(lambda tweet: tweet.get('lang', None), tweets_data)"
   ]
  },
  {
   "cell_type": "code",
   "execution_count": 5,
   "metadata": {
    "scrolled": true
   },
   "outputs": [
    {
     "data": {
      "text/html": [
       "<div>\n",
       "<style scoped>\n",
       "    .dataframe tbody tr th:only-of-type {\n",
       "        vertical-align: middle;\n",
       "    }\n",
       "\n",
       "    .dataframe tbody tr th {\n",
       "        vertical-align: top;\n",
       "    }\n",
       "\n",
       "    .dataframe thead th {\n",
       "        text-align: right;\n",
       "    }\n",
       "</style>\n",
       "<table border=\"1\" class=\"dataframe\">\n",
       "  <thead>\n",
       "    <tr style=\"text-align: right;\">\n",
       "      <th></th>\n",
       "      <th>text</th>\n",
       "      <th>lang</th>\n",
       "    </tr>\n",
       "  </thead>\n",
       "  <tbody>\n",
       "    <tr>\n",
       "      <th>0</th>\n",
       "      <td>ロシアの速攻からチェリシェフがサウジアラビアのDFを一気に2人かわして強いシュートをニアに撃...</td>\n",
       "      <td>ja</td>\n",
       "    </tr>\n",
       "    <tr>\n",
       "      <th>1</th>\n",
       "      <td>#RUS tiene los conceptos más claros que #KSA e...</td>\n",
       "      <td>es</td>\n",
       "    </tr>\n",
       "    <tr>\n",
       "      <th>2</th>\n",
       "      <td>Buyuk devrimci seriata bir darbe daha https://...</td>\n",
       "      <td>tr</td>\n",
       "    </tr>\n",
       "    <tr>\n",
       "      <th>3</th>\n",
       "      <td>C’était attendu mais c’est confirmé : le nivea...</td>\n",
       "      <td>fr</td>\n",
       "    </tr>\n",
       "    <tr>\n",
       "      <th>4</th>\n",
       "      <td>PINTOU O CAMPEÃO #RUS</td>\n",
       "      <td>pt</td>\n",
       "    </tr>\n",
       "  </tbody>\n",
       "</table>\n",
       "</div>"
      ],
      "text/plain": [
       "                                                text lang\n",
       "0  ロシアの速攻からチェリシェフがサウジアラビアのDFを一気に2人かわして強いシュートをニアに撃...   ja\n",
       "1  #RUS tiene los conceptos más claros que #KSA e...   es\n",
       "2  Buyuk devrimci seriata bir darbe daha https://...   tr\n",
       "3  C’était attendu mais c’est confirmé : le nivea...   fr\n",
       "4                              PINTOU O CAMPEÃO #RUS   pt"
      ]
     },
     "execution_count": 5,
     "metadata": {},
     "output_type": "execute_result"
    }
   ],
   "source": [
    "tweets.head()"
   ]
  },
  {
   "cell_type": "code",
   "execution_count": 6,
   "metadata": {},
   "outputs": [
    {
     "data": {
      "text/plain": [
       "(53758, 1)"
      ]
     },
     "execution_count": 6,
     "metadata": {},
     "output_type": "execute_result"
    }
   ],
   "source": [
    "df = tweets[tweets['lang']=='en']\n",
    "df.drop('lang',axis=1,inplace=True)\n",
    "df.reset_index()\n",
    "df.shape"
   ]
  },
  {
   "cell_type": "markdown",
   "metadata": {},
   "source": [
    "## Basic Feature Extraction"
   ]
  },
  {
   "cell_type": "markdown",
   "metadata": {},
   "source": [
    " __Number of Words__"
   ]
  },
  {
   "cell_type": "code",
   "execution_count": 7,
   "metadata": {},
   "outputs": [
    {
     "data": {
      "text/html": [
       "<div>\n",
       "<style scoped>\n",
       "    .dataframe tbody tr th:only-of-type {\n",
       "        vertical-align: middle;\n",
       "    }\n",
       "\n",
       "    .dataframe tbody tr th {\n",
       "        vertical-align: top;\n",
       "    }\n",
       "\n",
       "    .dataframe thead th {\n",
       "        text-align: right;\n",
       "    }\n",
       "</style>\n",
       "<table border=\"1\" class=\"dataframe\">\n",
       "  <thead>\n",
       "    <tr style=\"text-align: right;\">\n",
       "      <th></th>\n",
       "      <th>text</th>\n",
       "      <th>word_count</th>\n",
       "    </tr>\n",
       "  </thead>\n",
       "  <tbody>\n",
       "    <tr>\n",
       "      <th>21</th>\n",
       "      <td>RT @SaudiNT_EN: 📷 | Moscow, it’s green 💚💚💚...</td>\n",
       "      <td>10</td>\n",
       "    </tr>\n",
       "    <tr>\n",
       "      <th>30</th>\n",
       "      <td>RT @SaudiNT_EN: 📷 | Moscow, it’s green 💚💚💚...</td>\n",
       "      <td>10</td>\n",
       "    </tr>\n",
       "    <tr>\n",
       "      <th>42</th>\n",
       "      <td>RT @TheTotallyShow: 🏆 COMPETITION 🏆\\n\\nThe #...</td>\n",
       "      <td>21</td>\n",
       "    </tr>\n",
       "    <tr>\n",
       "      <th>44</th>\n",
       "      <td>RT @__yxsmeen: Some of us matured early becaus...</td>\n",
       "      <td>21</td>\n",
       "    </tr>\n",
       "    <tr>\n",
       "      <th>45</th>\n",
       "      <td>RT @HashmiZikra: @Colorlines @namirari Ah yes ...</td>\n",
       "      <td>13</td>\n",
       "    </tr>\n",
       "  </tbody>\n",
       "</table>\n",
       "</div>"
      ],
      "text/plain": [
       "                                                 text  word_count\n",
       "21  RT @SaudiNT_EN: 📷 | Moscow, it’s green 💚💚💚...          10\n",
       "30  RT @SaudiNT_EN: 📷 | Moscow, it’s green 💚💚💚...          10\n",
       "42  RT @TheTotallyShow: 🏆 COMPETITION 🏆\\n\\nThe #...          21\n",
       "44  RT @__yxsmeen: Some of us matured early becaus...          21\n",
       "45  RT @HashmiZikra: @Colorlines @namirari Ah yes ...          13"
      ]
     },
     "execution_count": 7,
     "metadata": {},
     "output_type": "execute_result"
    }
   ],
   "source": [
    "df['word_count'] = df['text'].apply(lambda x: len(str(x.encode('utf-8')).split(\" \")))\n",
    "df[['text','word_count']].head()"
   ]
  },
  {
   "cell_type": "markdown",
   "metadata": {},
   "source": [
    "__Number of characters__"
   ]
  },
  {
   "cell_type": "code",
   "execution_count": 8,
   "metadata": {},
   "outputs": [
    {
     "data": {
      "text/html": [
       "<div>\n",
       "<style scoped>\n",
       "    .dataframe tbody tr th:only-of-type {\n",
       "        vertical-align: middle;\n",
       "    }\n",
       "\n",
       "    .dataframe tbody tr th {\n",
       "        vertical-align: top;\n",
       "    }\n",
       "\n",
       "    .dataframe thead th {\n",
       "        text-align: right;\n",
       "    }\n",
       "</style>\n",
       "<table border=\"1\" class=\"dataframe\">\n",
       "  <thead>\n",
       "    <tr style=\"text-align: right;\">\n",
       "      <th></th>\n",
       "      <th>text</th>\n",
       "      <th>char_count</th>\n",
       "    </tr>\n",
       "  </thead>\n",
       "  <tbody>\n",
       "    <tr>\n",
       "      <th>21</th>\n",
       "      <td>RT @SaudiNT_EN: 📷 | Moscow, it’s green 💚💚💚...</td>\n",
       "      <td>100</td>\n",
       "    </tr>\n",
       "    <tr>\n",
       "      <th>30</th>\n",
       "      <td>RT @SaudiNT_EN: 📷 | Moscow, it’s green 💚💚💚...</td>\n",
       "      <td>100</td>\n",
       "    </tr>\n",
       "    <tr>\n",
       "      <th>42</th>\n",
       "      <td>RT @TheTotallyShow: 🏆 COMPETITION 🏆\\n\\nThe #...</td>\n",
       "      <td>142</td>\n",
       "    </tr>\n",
       "    <tr>\n",
       "      <th>44</th>\n",
       "      <td>RT @__yxsmeen: Some of us matured early becaus...</td>\n",
       "      <td>106</td>\n",
       "    </tr>\n",
       "    <tr>\n",
       "      <th>45</th>\n",
       "      <td>RT @HashmiZikra: @Colorlines @namirari Ah yes ...</td>\n",
       "      <td>95</td>\n",
       "    </tr>\n",
       "  </tbody>\n",
       "</table>\n",
       "</div>"
      ],
      "text/plain": [
       "                                                 text  char_count\n",
       "21  RT @SaudiNT_EN: 📷 | Moscow, it’s green 💚💚💚...         100\n",
       "30  RT @SaudiNT_EN: 📷 | Moscow, it’s green 💚💚💚...         100\n",
       "42  RT @TheTotallyShow: 🏆 COMPETITION 🏆\\n\\nThe #...         142\n",
       "44  RT @__yxsmeen: Some of us matured early becaus...         106\n",
       "45  RT @HashmiZikra: @Colorlines @namirari Ah yes ...          95"
      ]
     },
     "execution_count": 8,
     "metadata": {},
     "output_type": "execute_result"
    }
   ],
   "source": [
    "df['char_count'] = df['text'].str.len() ## this also includes spaces\n",
    "df[['text','char_count']].head()"
   ]
  },
  {
   "cell_type": "markdown",
   "metadata": {},
   "source": [
    "__Average Word Length__"
   ]
  },
  {
   "cell_type": "code",
   "execution_count": 9,
   "metadata": {},
   "outputs": [
    {
     "data": {
      "text/html": [
       "<div>\n",
       "<style scoped>\n",
       "    .dataframe tbody tr th:only-of-type {\n",
       "        vertical-align: middle;\n",
       "    }\n",
       "\n",
       "    .dataframe tbody tr th {\n",
       "        vertical-align: top;\n",
       "    }\n",
       "\n",
       "    .dataframe thead th {\n",
       "        text-align: right;\n",
       "    }\n",
       "</style>\n",
       "<table border=\"1\" class=\"dataframe\">\n",
       "  <thead>\n",
       "    <tr style=\"text-align: right;\">\n",
       "      <th></th>\n",
       "      <th>text</th>\n",
       "      <th>avg_word</th>\n",
       "    </tr>\n",
       "  </thead>\n",
       "  <tbody>\n",
       "    <tr>\n",
       "      <th>21</th>\n",
       "      <td>RT @SaudiNT_EN: 📷 | Moscow, it’s green 💚💚💚...</td>\n",
       "      <td>8.000000</td>\n",
       "    </tr>\n",
       "    <tr>\n",
       "      <th>30</th>\n",
       "      <td>RT @SaudiNT_EN: 📷 | Moscow, it’s green 💚💚💚...</td>\n",
       "      <td>8.000000</td>\n",
       "    </tr>\n",
       "    <tr>\n",
       "      <th>42</th>\n",
       "      <td>RT @TheTotallyShow: 🏆 COMPETITION 🏆\\n\\nThe #...</td>\n",
       "      <td>5.454545</td>\n",
       "    </tr>\n",
       "    <tr>\n",
       "      <th>44</th>\n",
       "      <td>RT @__yxsmeen: Some of us matured early becaus...</td>\n",
       "      <td>4.095238</td>\n",
       "    </tr>\n",
       "    <tr>\n",
       "      <th>45</th>\n",
       "      <td>RT @HashmiZikra: @Colorlines @namirari Ah yes ...</td>\n",
       "      <td>6.384615</td>\n",
       "    </tr>\n",
       "  </tbody>\n",
       "</table>\n",
       "</div>"
      ],
      "text/plain": [
       "                                                 text  avg_word\n",
       "21  RT @SaudiNT_EN: 📷 | Moscow, it’s green 💚💚💚...  8.000000\n",
       "30  RT @SaudiNT_EN: 📷 | Moscow, it’s green 💚💚💚...  8.000000\n",
       "42  RT @TheTotallyShow: 🏆 COMPETITION 🏆\\n\\nThe #...  5.454545\n",
       "44  RT @__yxsmeen: Some of us matured early becaus...  4.095238\n",
       "45  RT @HashmiZikra: @Colorlines @namirari Ah yes ...  6.384615"
      ]
     },
     "execution_count": 9,
     "metadata": {},
     "output_type": "execute_result"
    }
   ],
   "source": [
    "def avg_word(sentence):\n",
    "    words = sentence.split()\n",
    "    return (sum(len(word) for word in words)/float(len(words)))\n",
    "\n",
    "df['avg_word'] = df['text'].apply(lambda x: avg_word(x))\n",
    "df[['text','avg_word']].head()"
   ]
  },
  {
   "cell_type": "markdown",
   "metadata": {},
   "source": [
    "__Number of stopwords__"
   ]
  },
  {
   "cell_type": "code",
   "execution_count": 10,
   "metadata": {},
   "outputs": [
    {
     "data": {
      "text/html": [
       "<div>\n",
       "<style scoped>\n",
       "    .dataframe tbody tr th:only-of-type {\n",
       "        vertical-align: middle;\n",
       "    }\n",
       "\n",
       "    .dataframe tbody tr th {\n",
       "        vertical-align: top;\n",
       "    }\n",
       "\n",
       "    .dataframe thead th {\n",
       "        text-align: right;\n",
       "    }\n",
       "</style>\n",
       "<table border=\"1\" class=\"dataframe\">\n",
       "  <thead>\n",
       "    <tr style=\"text-align: right;\">\n",
       "      <th></th>\n",
       "      <th>text</th>\n",
       "      <th>stopwords</th>\n",
       "    </tr>\n",
       "  </thead>\n",
       "  <tbody>\n",
       "    <tr>\n",
       "      <th>21</th>\n",
       "      <td>RT @SaudiNT_EN: 📷 | Moscow, it’s green 💚💚💚...</td>\n",
       "      <td>0</td>\n",
       "    </tr>\n",
       "    <tr>\n",
       "      <th>30</th>\n",
       "      <td>RT @SaudiNT_EN: 📷 | Moscow, it’s green 💚💚💚...</td>\n",
       "      <td>0</td>\n",
       "    </tr>\n",
       "    <tr>\n",
       "      <th>42</th>\n",
       "      <td>RT @TheTotallyShow: 🏆 COMPETITION 🏆\\n\\nThe #...</td>\n",
       "      <td>2</td>\n",
       "    </tr>\n",
       "    <tr>\n",
       "      <th>44</th>\n",
       "      <td>RT @__yxsmeen: Some of us matured early becaus...</td>\n",
       "      <td>7</td>\n",
       "    </tr>\n",
       "    <tr>\n",
       "      <th>45</th>\n",
       "      <td>RT @HashmiZikra: @Colorlines @namirari Ah yes ...</td>\n",
       "      <td>3</td>\n",
       "    </tr>\n",
       "  </tbody>\n",
       "</table>\n",
       "</div>"
      ],
      "text/plain": [
       "                                                 text  stopwords\n",
       "21  RT @SaudiNT_EN: 📷 | Moscow, it’s green 💚💚💚...          0\n",
       "30  RT @SaudiNT_EN: 📷 | Moscow, it’s green 💚💚💚...          0\n",
       "42  RT @TheTotallyShow: 🏆 COMPETITION 🏆\\n\\nThe #...          2\n",
       "44  RT @__yxsmeen: Some of us matured early becaus...          7\n",
       "45  RT @HashmiZikra: @Colorlines @namirari Ah yes ...          3"
      ]
     },
     "execution_count": 10,
     "metadata": {},
     "output_type": "execute_result"
    }
   ],
   "source": [
    "from nltk.corpus import stopwords\n",
    "stop = stopwords.words('english')\n",
    "\n",
    "df['stopwords'] = df['text'].apply(lambda x: len([x for x in x.split() if x in stop]))\n",
    "df[['text','stopwords']].head()"
   ]
  },
  {
   "cell_type": "markdown",
   "metadata": {},
   "source": [
    "__Number of special characters__"
   ]
  },
  {
   "cell_type": "code",
   "execution_count": 11,
   "metadata": {},
   "outputs": [
    {
     "data": {
      "text/html": [
       "<div>\n",
       "<style scoped>\n",
       "    .dataframe tbody tr th:only-of-type {\n",
       "        vertical-align: middle;\n",
       "    }\n",
       "\n",
       "    .dataframe tbody tr th {\n",
       "        vertical-align: top;\n",
       "    }\n",
       "\n",
       "    .dataframe thead th {\n",
       "        text-align: right;\n",
       "    }\n",
       "</style>\n",
       "<table border=\"1\" class=\"dataframe\">\n",
       "  <thead>\n",
       "    <tr style=\"text-align: right;\">\n",
       "      <th></th>\n",
       "      <th>text</th>\n",
       "      <th>hastags</th>\n",
       "    </tr>\n",
       "  </thead>\n",
       "  <tbody>\n",
       "    <tr>\n",
       "      <th>21</th>\n",
       "      <td>RT @SaudiNT_EN: 📷 | Moscow, it’s green 💚💚💚...</td>\n",
       "      <td>2</td>\n",
       "    </tr>\n",
       "    <tr>\n",
       "      <th>30</th>\n",
       "      <td>RT @SaudiNT_EN: 📷 | Moscow, it’s green 💚💚💚...</td>\n",
       "      <td>2</td>\n",
       "    </tr>\n",
       "    <tr>\n",
       "      <th>42</th>\n",
       "      <td>RT @TheTotallyShow: 🏆 COMPETITION 🏆\\n\\nThe #...</td>\n",
       "      <td>1</td>\n",
       "    </tr>\n",
       "    <tr>\n",
       "      <th>44</th>\n",
       "      <td>RT @__yxsmeen: Some of us matured early becaus...</td>\n",
       "      <td>0</td>\n",
       "    </tr>\n",
       "    <tr>\n",
       "      <th>45</th>\n",
       "      <td>RT @HashmiZikra: @Colorlines @namirari Ah yes ...</td>\n",
       "      <td>0</td>\n",
       "    </tr>\n",
       "  </tbody>\n",
       "</table>\n",
       "</div>"
      ],
      "text/plain": [
       "                                                 text  hastags\n",
       "21  RT @SaudiNT_EN: 📷 | Moscow, it’s green 💚💚💚...        2\n",
       "30  RT @SaudiNT_EN: 📷 | Moscow, it’s green 💚💚💚...        2\n",
       "42  RT @TheTotallyShow: 🏆 COMPETITION 🏆\\n\\nThe #...        1\n",
       "44  RT @__yxsmeen: Some of us matured early becaus...        0\n",
       "45  RT @HashmiZikra: @Colorlines @namirari Ah yes ...        0"
      ]
     },
     "execution_count": 11,
     "metadata": {},
     "output_type": "execute_result"
    }
   ],
   "source": [
    "df['hastags'] = df['text'].apply(lambda x: len([x for x in x.split() if x.startswith('#')]))\n",
    "df[['text','hastags']].head()"
   ]
  },
  {
   "cell_type": "markdown",
   "metadata": {},
   "source": [
    "__Number of numerics__"
   ]
  },
  {
   "cell_type": "code",
   "execution_count": 12,
   "metadata": {},
   "outputs": [
    {
     "data": {
      "text/html": [
       "<div>\n",
       "<style scoped>\n",
       "    .dataframe tbody tr th:only-of-type {\n",
       "        vertical-align: middle;\n",
       "    }\n",
       "\n",
       "    .dataframe tbody tr th {\n",
       "        vertical-align: top;\n",
       "    }\n",
       "\n",
       "    .dataframe thead th {\n",
       "        text-align: right;\n",
       "    }\n",
       "</style>\n",
       "<table border=\"1\" class=\"dataframe\">\n",
       "  <thead>\n",
       "    <tr style=\"text-align: right;\">\n",
       "      <th></th>\n",
       "      <th>text</th>\n",
       "      <th>numerics</th>\n",
       "    </tr>\n",
       "  </thead>\n",
       "  <tbody>\n",
       "    <tr>\n",
       "      <th>21</th>\n",
       "      <td>RT @SaudiNT_EN: 📷 | Moscow, it’s green 💚💚💚...</td>\n",
       "      <td>0</td>\n",
       "    </tr>\n",
       "    <tr>\n",
       "      <th>30</th>\n",
       "      <td>RT @SaudiNT_EN: 📷 | Moscow, it’s green 💚💚💚...</td>\n",
       "      <td>0</td>\n",
       "    </tr>\n",
       "    <tr>\n",
       "      <th>42</th>\n",
       "      <td>RT @TheTotallyShow: 🏆 COMPETITION 🏆\\n\\nThe #...</td>\n",
       "      <td>1</td>\n",
       "    </tr>\n",
       "    <tr>\n",
       "      <th>44</th>\n",
       "      <td>RT @__yxsmeen: Some of us matured early becaus...</td>\n",
       "      <td>0</td>\n",
       "    </tr>\n",
       "    <tr>\n",
       "      <th>45</th>\n",
       "      <td>RT @HashmiZikra: @Colorlines @namirari Ah yes ...</td>\n",
       "      <td>0</td>\n",
       "    </tr>\n",
       "  </tbody>\n",
       "</table>\n",
       "</div>"
      ],
      "text/plain": [
       "                                                 text  numerics\n",
       "21  RT @SaudiNT_EN: 📷 | Moscow, it’s green 💚💚💚...         0\n",
       "30  RT @SaudiNT_EN: 📷 | Moscow, it’s green 💚💚💚...         0\n",
       "42  RT @TheTotallyShow: 🏆 COMPETITION 🏆\\n\\nThe #...         1\n",
       "44  RT @__yxsmeen: Some of us matured early becaus...         0\n",
       "45  RT @HashmiZikra: @Colorlines @namirari Ah yes ...         0"
      ]
     },
     "execution_count": 12,
     "metadata": {},
     "output_type": "execute_result"
    }
   ],
   "source": [
    "df['numerics'] = df['text'].apply(lambda x: len([x for x in x.split() if x.isdigit()]))\n",
    "df[['text','numerics']].head()"
   ]
  },
  {
   "cell_type": "markdown",
   "metadata": {},
   "source": [
    "__Number of Uppercase words__"
   ]
  },
  {
   "cell_type": "code",
   "execution_count": 13,
   "metadata": {},
   "outputs": [
    {
     "data": {
      "text/html": [
       "<div>\n",
       "<style scoped>\n",
       "    .dataframe tbody tr th:only-of-type {\n",
       "        vertical-align: middle;\n",
       "    }\n",
       "\n",
       "    .dataframe tbody tr th {\n",
       "        vertical-align: top;\n",
       "    }\n",
       "\n",
       "    .dataframe thead th {\n",
       "        text-align: right;\n",
       "    }\n",
       "</style>\n",
       "<table border=\"1\" class=\"dataframe\">\n",
       "  <thead>\n",
       "    <tr style=\"text-align: right;\">\n",
       "      <th></th>\n",
       "      <th>text</th>\n",
       "      <th>upper</th>\n",
       "    </tr>\n",
       "  </thead>\n",
       "  <tbody>\n",
       "    <tr>\n",
       "      <th>21</th>\n",
       "      <td>RT @SaudiNT_EN: 📷 | Moscow, it’s green 💚💚💚...</td>\n",
       "      <td>2</td>\n",
       "    </tr>\n",
       "    <tr>\n",
       "      <th>30</th>\n",
       "      <td>RT @SaudiNT_EN: 📷 | Moscow, it’s green 💚💚💚...</td>\n",
       "      <td>2</td>\n",
       "    </tr>\n",
       "    <tr>\n",
       "      <th>42</th>\n",
       "      <td>RT @TheTotallyShow: 🏆 COMPETITION 🏆\\n\\nThe #...</td>\n",
       "      <td>3</td>\n",
       "    </tr>\n",
       "    <tr>\n",
       "      <th>44</th>\n",
       "      <td>RT @__yxsmeen: Some of us matured early becaus...</td>\n",
       "      <td>1</td>\n",
       "    </tr>\n",
       "    <tr>\n",
       "      <th>45</th>\n",
       "      <td>RT @HashmiZikra: @Colorlines @namirari Ah yes ...</td>\n",
       "      <td>1</td>\n",
       "    </tr>\n",
       "  </tbody>\n",
       "</table>\n",
       "</div>"
      ],
      "text/plain": [
       "                                                 text  upper\n",
       "21  RT @SaudiNT_EN: 📷 | Moscow, it’s green 💚💚💚...      2\n",
       "30  RT @SaudiNT_EN: 📷 | Moscow, it’s green 💚💚💚...      2\n",
       "42  RT @TheTotallyShow: 🏆 COMPETITION 🏆\\n\\nThe #...      3\n",
       "44  RT @__yxsmeen: Some of us matured early becaus...      1\n",
       "45  RT @HashmiZikra: @Colorlines @namirari Ah yes ...      1"
      ]
     },
     "execution_count": 13,
     "metadata": {},
     "output_type": "execute_result"
    }
   ],
   "source": [
    "df['upper'] = df['text'].apply(lambda x: len([x for x in x.split() if x.isupper()]))\n",
    "df[['text','upper']].head()"
   ]
  },
  {
   "cell_type": "markdown",
   "metadata": {},
   "source": [
    "## Basic Pre-processing"
   ]
  },
  {
   "cell_type": "markdown",
   "metadata": {},
   "source": [
    "__Lower case__"
   ]
  },
  {
   "cell_type": "code",
   "execution_count": 14,
   "metadata": {},
   "outputs": [
    {
     "data": {
      "text/plain": [
       "21    rt @saudint_en: 📷 | moscow, it’s green 💚💚💚...\n",
       "30    rt @saudint_en: 📷 | moscow, it’s green 💚💚💚...\n",
       "42    rt @thetotallyshow: 🏆 competition 🏆 the #wor...\n",
       "44    rt @__yxsmeen: some of us matured early becaus...\n",
       "45    rt @hashmizikra: @colorlines @namirari ah yes ...\n",
       "Name: text, dtype: object"
      ]
     },
     "execution_count": 14,
     "metadata": {},
     "output_type": "execute_result"
    }
   ],
   "source": [
    "df['text'] = df['text'].apply(lambda x: \" \".join(x.lower() for x in x.split()))\n",
    "df['text'].head()"
   ]
  },
  {
   "cell_type": "markdown",
   "metadata": {},
   "source": [
    "__Removing Punctuation__"
   ]
  },
  {
   "cell_type": "code",
   "execution_count": 15,
   "metadata": {},
   "outputs": [
    {
     "data": {
      "text/plain": [
       "21    rt saudint_en   moscow its green  rusksa world...\n",
       "30    rt saudint_en   moscow its green  rusksa world...\n",
       "42    rt thetotallyshow  competition  the worldcup k...\n",
       "44    rt __yxsmeen some of us matured early because ...\n",
       "45    rt hashmizikra colorlines namirari ah yes beca...\n",
       "Name: text, dtype: object"
      ]
     },
     "execution_count": 15,
     "metadata": {},
     "output_type": "execute_result"
    }
   ],
   "source": [
    "df['text'] = df['text'].str.replace('[^\\w\\s]','')\n",
    "df['text'].head()"
   ]
  },
  {
   "cell_type": "markdown",
   "metadata": {},
   "source": [
    "__Removal of Stop Words__"
   ]
  },
  {
   "cell_type": "code",
   "execution_count": 16,
   "metadata": {
    "scrolled": true
   },
   "outputs": [
    {
     "data": {
      "text/plain": [
       "21    rt saudint_en moscow green rusksa worldcupruss...\n",
       "30    rt saudint_en moscow green rusksa worldcupruss...\n",
       "42    rt thetotallyshow competition worldcup kicks t...\n",
       "44    rt __yxsmeen us matured early life showed us w...\n",
       "45    rt hashmizikra colorlines namirari ah yes worl...\n",
       "Name: text, dtype: object"
      ]
     },
     "execution_count": 16,
     "metadata": {},
     "output_type": "execute_result"
    }
   ],
   "source": [
    "df['text'] = df['text'].apply(lambda x: \" \".join(x for x in x.split() if x not in stop))\n",
    "df['text'].head()"
   ]
  },
  {
   "cell_type": "markdown",
   "metadata": {},
   "source": [
    "__Common word removal__"
   ]
  },
  {
   "cell_type": "code",
   "execution_count": 17,
   "metadata": {},
   "outputs": [
    {
     "data": {
      "text/plain": [
       "rt          36849\n",
       "world       25258\n",
       "cup         13999\n",
       "worldcup     5879\n",
       "win          4099\n",
       "2026         3273\n",
       "fifa         3195\n",
       "us           3083\n",
       "2018         2639\n",
       "football     2616\n",
       "dtype: int64"
      ]
     },
     "execution_count": 17,
     "metadata": {},
     "output_type": "execute_result"
    }
   ],
   "source": [
    "freq = pd.Series(' '.join(df['text']).split()).value_counts()[:10]\n",
    "freq"
   ]
  },
  {
   "cell_type": "markdown",
   "metadata": {},
   "source": [
    "__Rare words__"
   ]
  },
  {
   "cell_type": "code",
   "execution_count": 18,
   "metadata": {},
   "outputs": [
    {
     "data": {
      "text/plain": [
       "autob                 1\n",
       "httpstcoocuojbxjxa    1\n",
       "hdmirgbspdif          1\n",
       "gggentry              1\n",
       "obiasika              1\n",
       "wifiaudiostreaming    1\n",
       "togethernow           1\n",
       "sbnations             1\n",
       "hun                   1\n",
       "cleave                1\n",
       "dtype: int64"
      ]
     },
     "execution_count": 18,
     "metadata": {},
     "output_type": "execute_result"
    }
   ],
   "source": [
    "freq = pd.Series(' '.join(df['text']).split()).value_counts()[-10:]\n",
    "freq"
   ]
  },
  {
   "cell_type": "code",
   "execution_count": 19,
   "metadata": {},
   "outputs": [
    {
     "data": {
      "text/plain": [
       "21    rt saudint_en moscow green rusksa worldcupruss...\n",
       "30    rt saudint_en moscow green rusksa worldcupruss...\n",
       "42    rt thetotallyshow competition worldcup kicks t...\n",
       "44    rt __yxsmeen us matured early life showed us w...\n",
       "45    rt hashmizikra colorlines namirari ah yes worl...\n",
       "Name: text, dtype: object"
      ]
     },
     "execution_count": 19,
     "metadata": {},
     "output_type": "execute_result"
    }
   ],
   "source": [
    "freq = list(freq.index)\n",
    "df['text'] = df['text'].apply(lambda x: \" \".join(x for x in x.split() if x not in freq))\n",
    "df['text'].head()"
   ]
  },
  {
   "cell_type": "markdown",
   "metadata": {},
   "source": [
    "__Spelling correction__"
   ]
  },
  {
   "cell_type": "code",
   "execution_count": 20,
   "metadata": {},
   "outputs": [
    {
     "data": {
      "text/plain": [
       "21    it saudint_en moscow green russia worldcupruss...\n",
       "30    it saudint_en moscow green russia worldcupruss...\n",
       "42    it thetotallyshow competition worldcup kicks t...\n",
       "44    it __yxsmeen us matured early life showed us w...\n",
       "45    it hashmizikra colorlines namirari ah yes worl...\n",
       "Name: text, dtype: object"
      ]
     },
     "execution_count": 20,
     "metadata": {},
     "output_type": "execute_result"
    }
   ],
   "source": [
    "from textblob import TextBlob\n",
    "df['text'][:5].apply(lambda x: str(TextBlob(x).correct()))"
   ]
  },
  {
   "cell_type": "markdown",
   "metadata": {},
   "source": [
    "__Tokenization__"
   ]
  },
  {
   "cell_type": "code",
   "execution_count": 21,
   "metadata": {},
   "outputs": [
    {
     "data": {
      "text/plain": [
       "21    [rt, saudint_en, moscow, green, rusksa, worldc...\n",
       "30    [rt, saudint_en, moscow, green, rusksa, worldc...\n",
       "42    [rt, thetotallyshow, competition, worldcup, ki...\n",
       "44    [rt, __yxsmeen, us, matured, early, life, show...\n",
       "45    [rt, hashmizikra, colorlines, namirari, ah, ye...\n",
       "Name: text, dtype: object"
      ]
     },
     "execution_count": 21,
     "metadata": {},
     "output_type": "execute_result"
    }
   ],
   "source": [
    "from nltk.tokenize import word_tokenize\n",
    "df['text'][:5].apply(lambda x: word_tokenize(x))"
   ]
  },
  {
   "cell_type": "markdown",
   "metadata": {},
   "source": [
    "__Stemming__"
   ]
  },
  {
   "cell_type": "code",
   "execution_count": 22,
   "metadata": {},
   "outputs": [
    {
     "data": {
      "text/plain": [
       "21    rt saudint_en moscow green rusksa worldcupruss...\n",
       "30    rt saudint_en moscow green rusksa worldcupruss...\n",
       "42    rt thetotallyshow competit worldcup kick today...\n",
       "44    rt __yxsmeen us matur earli life show us worst...\n",
       "45    rt hashmizikra colorlin namirari ah ye world h...\n",
       "Name: text, dtype: object"
      ]
     },
     "execution_count": 22,
     "metadata": {},
     "output_type": "execute_result"
    }
   ],
   "source": [
    "from nltk.stem import PorterStemmer\n",
    "st = PorterStemmer()\n",
    "df['text'][:5].apply(lambda x: \" \".join([st.stem(word) for word in x.split()]))"
   ]
  },
  {
   "cell_type": "markdown",
   "metadata": {},
   "source": [
    "__Lemmatization__"
   ]
  },
  {
   "cell_type": "code",
   "execution_count": 23,
   "metadata": {},
   "outputs": [
    {
     "data": {
      "text/plain": [
       "21    rt saudint_en moscow green rusksa worldcupruss...\n",
       "30    rt saudint_en moscow green rusksa worldcupruss...\n",
       "42    rt thetotallyshow competition worldcup kick to...\n",
       "44    rt __yxsmeen u matured early life showed u wor...\n",
       "45    rt hashmizikra colorlines namirari ah yes worl...\n",
       "Name: text, dtype: object"
      ]
     },
     "execution_count": 23,
     "metadata": {},
     "output_type": "execute_result"
    }
   ],
   "source": [
    "from textblob import Word\n",
    "df['text'] = df['text'].apply(lambda x: \" \".join([Word(word).lemmatize() for word in x.split()]))\n",
    "df['text'].head()"
   ]
  },
  {
   "cell_type": "markdown",
   "metadata": {},
   "source": [
    "##  Advance Text Processing"
   ]
  },
  {
   "cell_type": "markdown",
   "metadata": {},
   "source": [
    "__Term frequency__"
   ]
  },
  {
   "cell_type": "code",
   "execution_count": 24,
   "metadata": {},
   "outputs": [
    {
     "data": {
      "text/html": [
       "<div>\n",
       "<style scoped>\n",
       "    .dataframe tbody tr th:only-of-type {\n",
       "        vertical-align: middle;\n",
       "    }\n",
       "\n",
       "    .dataframe tbody tr th {\n",
       "        vertical-align: top;\n",
       "    }\n",
       "\n",
       "    .dataframe thead th {\n",
       "        text-align: right;\n",
       "    }\n",
       "</style>\n",
       "<table border=\"1\" class=\"dataframe\">\n",
       "  <thead>\n",
       "    <tr style=\"text-align: right;\">\n",
       "      <th></th>\n",
       "      <th>words</th>\n",
       "      <th>tf</th>\n",
       "    </tr>\n",
       "  </thead>\n",
       "  <tbody>\n",
       "    <tr>\n",
       "      <th>0</th>\n",
       "      <td>saudint_en</td>\n",
       "      <td>1</td>\n",
       "    </tr>\n",
       "    <tr>\n",
       "      <th>1</th>\n",
       "      <td>moscow</td>\n",
       "      <td>1</td>\n",
       "    </tr>\n",
       "    <tr>\n",
       "      <th>2</th>\n",
       "      <td>httpstcohauc8ouwul</td>\n",
       "      <td>1</td>\n",
       "    </tr>\n",
       "    <tr>\n",
       "      <th>3</th>\n",
       "      <td>green</td>\n",
       "      <td>1</td>\n",
       "    </tr>\n",
       "    <tr>\n",
       "      <th>4</th>\n",
       "      <td>rusksa</td>\n",
       "      <td>1</td>\n",
       "    </tr>\n",
       "    <tr>\n",
       "      <th>5</th>\n",
       "      <td>worldcuprussia2018</td>\n",
       "      <td>1</td>\n",
       "    </tr>\n",
       "    <tr>\n",
       "      <th>6</th>\n",
       "      <td>rt</td>\n",
       "      <td>1</td>\n",
       "    </tr>\n",
       "  </tbody>\n",
       "</table>\n",
       "</div>"
      ],
      "text/plain": [
       "                words  tf\n",
       "0          saudint_en   1\n",
       "1              moscow   1\n",
       "2  httpstcohauc8ouwul   1\n",
       "3               green   1\n",
       "4              rusksa   1\n",
       "5  worldcuprussia2018   1\n",
       "6                  rt   1"
      ]
     },
     "execution_count": 24,
     "metadata": {},
     "output_type": "execute_result"
    }
   ],
   "source": [
    "tf1 = df['text'][1:2].apply(lambda x: pd.value_counts(x.split(\" \"))).sum(axis = 0).reset_index()\n",
    "tf1.columns = ['words','tf']\n",
    "tf1"
   ]
  },
  {
   "cell_type": "markdown",
   "metadata": {},
   "source": [
    "__Inverse Document Frequency__"
   ]
  },
  {
   "cell_type": "code",
   "execution_count": 25,
   "metadata": {},
   "outputs": [
    {
     "data": {
      "text/html": [
       "<div>\n",
       "<style scoped>\n",
       "    .dataframe tbody tr th:only-of-type {\n",
       "        vertical-align: middle;\n",
       "    }\n",
       "\n",
       "    .dataframe tbody tr th {\n",
       "        vertical-align: top;\n",
       "    }\n",
       "\n",
       "    .dataframe thead th {\n",
       "        text-align: right;\n",
       "    }\n",
       "</style>\n",
       "<table border=\"1\" class=\"dataframe\">\n",
       "  <thead>\n",
       "    <tr style=\"text-align: right;\">\n",
       "      <th></th>\n",
       "      <th>words</th>\n",
       "      <th>tf</th>\n",
       "      <th>idf</th>\n",
       "    </tr>\n",
       "  </thead>\n",
       "  <tbody>\n",
       "    <tr>\n",
       "      <th>0</th>\n",
       "      <td>saudint_en</td>\n",
       "      <td>1</td>\n",
       "      <td>5.743003</td>\n",
       "    </tr>\n",
       "    <tr>\n",
       "      <th>1</th>\n",
       "      <td>moscow</td>\n",
       "      <td>1</td>\n",
       "      <td>5.164786</td>\n",
       "    </tr>\n",
       "    <tr>\n",
       "      <th>2</th>\n",
       "      <td>httpstcohauc8ouwul</td>\n",
       "      <td>1</td>\n",
       "      <td>10.199101</td>\n",
       "    </tr>\n",
       "    <tr>\n",
       "      <th>3</th>\n",
       "      <td>green</td>\n",
       "      <td>1</td>\n",
       "      <td>5.846439</td>\n",
       "    </tr>\n",
       "    <tr>\n",
       "      <th>4</th>\n",
       "      <td>rusksa</td>\n",
       "      <td>1</td>\n",
       "      <td>4.304065</td>\n",
       "    </tr>\n",
       "    <tr>\n",
       "      <th>5</th>\n",
       "      <td>worldcuprussia2018</td>\n",
       "      <td>1</td>\n",
       "      <td>4.983607</td>\n",
       "    </tr>\n",
       "    <tr>\n",
       "      <th>6</th>\n",
       "      <td>rt</td>\n",
       "      <td>1</td>\n",
       "      <td>0.000000</td>\n",
       "    </tr>\n",
       "  </tbody>\n",
       "</table>\n",
       "</div>"
      ],
      "text/plain": [
       "                words  tf        idf\n",
       "0          saudint_en   1   5.743003\n",
       "1              moscow   1   5.164786\n",
       "2  httpstcohauc8ouwul   1  10.199101\n",
       "3               green   1   5.846439\n",
       "4              rusksa   1   4.304065\n",
       "5  worldcuprussia2018   1   4.983607\n",
       "6                  rt   1   0.000000"
      ]
     },
     "execution_count": 25,
     "metadata": {},
     "output_type": "execute_result"
    }
   ],
   "source": [
    "for i,word in enumerate(tf1['words']):\n",
    "    tf1.loc[i, 'idf'] = np.log(df.shape[0]/(len(df[df['text'].str.contains(word)])))\n",
    "\n",
    "tf1"
   ]
  },
  {
   "cell_type": "markdown",
   "metadata": {},
   "source": [
    "__Term Frequency – Inverse Document Frequency (TF-IDF)__"
   ]
  },
  {
   "cell_type": "code",
   "execution_count": 26,
   "metadata": {},
   "outputs": [
    {
     "data": {
      "text/html": [
       "<div>\n",
       "<style scoped>\n",
       "    .dataframe tbody tr th:only-of-type {\n",
       "        vertical-align: middle;\n",
       "    }\n",
       "\n",
       "    .dataframe tbody tr th {\n",
       "        vertical-align: top;\n",
       "    }\n",
       "\n",
       "    .dataframe thead th {\n",
       "        text-align: right;\n",
       "    }\n",
       "</style>\n",
       "<table border=\"1\" class=\"dataframe\">\n",
       "  <thead>\n",
       "    <tr style=\"text-align: right;\">\n",
       "      <th></th>\n",
       "      <th>words</th>\n",
       "      <th>tf</th>\n",
       "      <th>idf</th>\n",
       "      <th>tfidf</th>\n",
       "    </tr>\n",
       "  </thead>\n",
       "  <tbody>\n",
       "    <tr>\n",
       "      <th>0</th>\n",
       "      <td>saudint_en</td>\n",
       "      <td>1</td>\n",
       "      <td>5.743003</td>\n",
       "      <td>5.743003</td>\n",
       "    </tr>\n",
       "    <tr>\n",
       "      <th>1</th>\n",
       "      <td>moscow</td>\n",
       "      <td>1</td>\n",
       "      <td>5.164786</td>\n",
       "      <td>5.164786</td>\n",
       "    </tr>\n",
       "    <tr>\n",
       "      <th>2</th>\n",
       "      <td>httpstcohauc8ouwul</td>\n",
       "      <td>1</td>\n",
       "      <td>10.199101</td>\n",
       "      <td>10.199101</td>\n",
       "    </tr>\n",
       "    <tr>\n",
       "      <th>3</th>\n",
       "      <td>green</td>\n",
       "      <td>1</td>\n",
       "      <td>5.846439</td>\n",
       "      <td>5.846439</td>\n",
       "    </tr>\n",
       "    <tr>\n",
       "      <th>4</th>\n",
       "      <td>rusksa</td>\n",
       "      <td>1</td>\n",
       "      <td>4.304065</td>\n",
       "      <td>4.304065</td>\n",
       "    </tr>\n",
       "    <tr>\n",
       "      <th>5</th>\n",
       "      <td>worldcuprussia2018</td>\n",
       "      <td>1</td>\n",
       "      <td>4.983607</td>\n",
       "      <td>4.983607</td>\n",
       "    </tr>\n",
       "    <tr>\n",
       "      <th>6</th>\n",
       "      <td>rt</td>\n",
       "      <td>1</td>\n",
       "      <td>0.000000</td>\n",
       "      <td>0.000000</td>\n",
       "    </tr>\n",
       "  </tbody>\n",
       "</table>\n",
       "</div>"
      ],
      "text/plain": [
       "                words  tf        idf      tfidf\n",
       "0          saudint_en   1   5.743003   5.743003\n",
       "1              moscow   1   5.164786   5.164786\n",
       "2  httpstcohauc8ouwul   1  10.199101  10.199101\n",
       "3               green   1   5.846439   5.846439\n",
       "4              rusksa   1   4.304065   4.304065\n",
       "5  worldcuprussia2018   1   4.983607   4.983607\n",
       "6                  rt   1   0.000000   0.000000"
      ]
     },
     "execution_count": 26,
     "metadata": {},
     "output_type": "execute_result"
    }
   ],
   "source": [
    "tf1['tfidf'] = tf1['tf'] * tf1['idf']\n",
    "tf1"
   ]
  },
  {
   "cell_type": "code",
   "execution_count": 27,
   "metadata": {},
   "outputs": [
    {
     "data": {
      "text/plain": [
       "<53758x1000 sparse matrix of type '<type 'numpy.float64'>'\n",
       "\twith 340995 stored elements in Compressed Sparse Row format>"
      ]
     },
     "execution_count": 27,
     "metadata": {},
     "output_type": "execute_result"
    }
   ],
   "source": [
    "from sklearn.feature_extraction.text import TfidfVectorizer\n",
    "tfidf = TfidfVectorizer(max_features=1000, lowercase=True, analyzer='word',\n",
    " stop_words= 'english',ngram_range=(1,1))\n",
    "train_vect = tfidf.fit_transform(df['text'])\n",
    "\n",
    "train_vect"
   ]
  },
  {
   "cell_type": "markdown",
   "metadata": {},
   "source": [
    "__ Bag of Words__"
   ]
  },
  {
   "cell_type": "code",
   "execution_count": 28,
   "metadata": {},
   "outputs": [
    {
     "data": {
      "text/plain": [
       "<53758x1000 sparse matrix of type '<type 'numpy.int64'>'\n",
       "\twith 370904 stored elements in Compressed Sparse Row format>"
      ]
     },
     "execution_count": 28,
     "metadata": {},
     "output_type": "execute_result"
    }
   ],
   "source": [
    "from sklearn.feature_extraction.text import CountVectorizer\n",
    "bow = CountVectorizer(max_features=1000, lowercase=True, ngram_range=(1,1),analyzer = \"word\")\n",
    "train_bow = bow.fit_transform(df['text'])\n",
    "train_bow"
   ]
  },
  {
   "cell_type": "markdown",
   "metadata": {},
   "source": [
    "__Sentiment Analysis__"
   ]
  },
  {
   "cell_type": "code",
   "execution_count": 29,
   "metadata": {},
   "outputs": [
    {
     "data": {
      "text/plain": [
       "21                          (-0.2, 0.3)\n",
       "30                          (-0.2, 0.3)\n",
       "42                           (0.0, 0.0)\n",
       "44    (-0.266666666667, 0.533333333333)\n",
       "45                           (0.0, 0.0)\n",
       "Name: text, dtype: object"
      ]
     },
     "execution_count": 29,
     "metadata": {},
     "output_type": "execute_result"
    }
   ],
   "source": [
    "df['text'][:5].apply(lambda x: TextBlob(x).sentiment)"
   ]
  },
  {
   "cell_type": "code",
   "execution_count": 30,
   "metadata": {
    "scrolled": true
   },
   "outputs": [
    {
     "data": {
      "text/html": [
       "<div>\n",
       "<style scoped>\n",
       "    .dataframe tbody tr th:only-of-type {\n",
       "        vertical-align: middle;\n",
       "    }\n",
       "\n",
       "    .dataframe tbody tr th {\n",
       "        vertical-align: top;\n",
       "    }\n",
       "\n",
       "    .dataframe thead th {\n",
       "        text-align: right;\n",
       "    }\n",
       "</style>\n",
       "<table border=\"1\" class=\"dataframe\">\n",
       "  <thead>\n",
       "    <tr style=\"text-align: right;\">\n",
       "      <th></th>\n",
       "      <th>text</th>\n",
       "      <th>sentiment</th>\n",
       "    </tr>\n",
       "  </thead>\n",
       "  <tbody>\n",
       "    <tr>\n",
       "      <th>21</th>\n",
       "      <td>rt saudint_en moscow green rusksa worldcupruss...</td>\n",
       "      <td>-0.200000</td>\n",
       "    </tr>\n",
       "    <tr>\n",
       "      <th>30</th>\n",
       "      <td>rt saudint_en moscow green rusksa worldcupruss...</td>\n",
       "      <td>-0.200000</td>\n",
       "    </tr>\n",
       "    <tr>\n",
       "      <th>42</th>\n",
       "      <td>rt thetotallyshow competition worldcup kick to...</td>\n",
       "      <td>0.000000</td>\n",
       "    </tr>\n",
       "    <tr>\n",
       "      <th>44</th>\n",
       "      <td>rt __yxsmeen u matured early life showed u wor...</td>\n",
       "      <td>-0.266667</td>\n",
       "    </tr>\n",
       "    <tr>\n",
       "      <th>45</th>\n",
       "      <td>rt hashmizikra colorlines namirari ah yes worl...</td>\n",
       "      <td>0.000000</td>\n",
       "    </tr>\n",
       "  </tbody>\n",
       "</table>\n",
       "</div>"
      ],
      "text/plain": [
       "                                                 text  sentiment\n",
       "21  rt saudint_en moscow green rusksa worldcupruss...  -0.200000\n",
       "30  rt saudint_en moscow green rusksa worldcupruss...  -0.200000\n",
       "42  rt thetotallyshow competition worldcup kick to...   0.000000\n",
       "44  rt __yxsmeen u matured early life showed u wor...  -0.266667\n",
       "45  rt hashmizikra colorlines namirari ah yes worl...   0.000000"
      ]
     },
     "execution_count": 30,
     "metadata": {},
     "output_type": "execute_result"
    }
   ],
   "source": [
    "df['sentiment'] = df['text'].apply(lambda x: TextBlob(x).sentiment[0] )\n",
    "df[['text','sentiment']].head()"
   ]
  },
  {
   "cell_type": "code",
   "execution_count": 31,
   "metadata": {},
   "outputs": [],
   "source": [
    "df['label'] = df['sentiment'].apply(lambda x: 'neutral' if x == 0 \\\n",
    "                                              else 'positive' if (0.5 > x > 0) \\\n",
    "                                              else 'strongly positive' if (x > 0.5) \\\n",
    "                                              else 'negative'if (-0.5 < x < 0 ) else 'strongly negative')"
   ]
  },
  {
   "cell_type": "code",
   "execution_count": 32,
   "metadata": {},
   "outputs": [
    {
     "data": {
      "text/html": [
       "<div>\n",
       "<style scoped>\n",
       "    .dataframe tbody tr th:only-of-type {\n",
       "        vertical-align: middle;\n",
       "    }\n",
       "\n",
       "    .dataframe tbody tr th {\n",
       "        vertical-align: top;\n",
       "    }\n",
       "\n",
       "    .dataframe thead th {\n",
       "        text-align: right;\n",
       "    }\n",
       "</style>\n",
       "<table border=\"1\" class=\"dataframe\">\n",
       "  <thead>\n",
       "    <tr style=\"text-align: right;\">\n",
       "      <th></th>\n",
       "      <th>text</th>\n",
       "      <th>word_count</th>\n",
       "      <th>char_count</th>\n",
       "      <th>avg_word</th>\n",
       "      <th>stopwords</th>\n",
       "      <th>hastags</th>\n",
       "      <th>numerics</th>\n",
       "      <th>upper</th>\n",
       "      <th>sentiment</th>\n",
       "      <th>label</th>\n",
       "    </tr>\n",
       "  </thead>\n",
       "  <tbody>\n",
       "    <tr>\n",
       "      <th>21</th>\n",
       "      <td>rt saudint_en moscow green rusksa worldcupruss...</td>\n",
       "      <td>10</td>\n",
       "      <td>100</td>\n",
       "      <td>8.000000</td>\n",
       "      <td>0</td>\n",
       "      <td>2</td>\n",
       "      <td>0</td>\n",
       "      <td>2</td>\n",
       "      <td>-0.200000</td>\n",
       "      <td>negative</td>\n",
       "    </tr>\n",
       "    <tr>\n",
       "      <th>30</th>\n",
       "      <td>rt saudint_en moscow green rusksa worldcupruss...</td>\n",
       "      <td>10</td>\n",
       "      <td>100</td>\n",
       "      <td>8.000000</td>\n",
       "      <td>0</td>\n",
       "      <td>2</td>\n",
       "      <td>0</td>\n",
       "      <td>2</td>\n",
       "      <td>-0.200000</td>\n",
       "      <td>negative</td>\n",
       "    </tr>\n",
       "    <tr>\n",
       "      <th>42</th>\n",
       "      <td>rt thetotallyshow competition worldcup kick to...</td>\n",
       "      <td>21</td>\n",
       "      <td>142</td>\n",
       "      <td>5.454545</td>\n",
       "      <td>2</td>\n",
       "      <td>1</td>\n",
       "      <td>1</td>\n",
       "      <td>3</td>\n",
       "      <td>0.000000</td>\n",
       "      <td>neutral</td>\n",
       "    </tr>\n",
       "    <tr>\n",
       "      <th>44</th>\n",
       "      <td>rt __yxsmeen u matured early life showed u wor...</td>\n",
       "      <td>21</td>\n",
       "      <td>106</td>\n",
       "      <td>4.095238</td>\n",
       "      <td>7</td>\n",
       "      <td>0</td>\n",
       "      <td>0</td>\n",
       "      <td>1</td>\n",
       "      <td>-0.266667</td>\n",
       "      <td>negative</td>\n",
       "    </tr>\n",
       "    <tr>\n",
       "      <th>45</th>\n",
       "      <td>rt hashmizikra colorlines namirari ah yes worl...</td>\n",
       "      <td>13</td>\n",
       "      <td>95</td>\n",
       "      <td>6.384615</td>\n",
       "      <td>3</td>\n",
       "      <td>0</td>\n",
       "      <td>0</td>\n",
       "      <td>1</td>\n",
       "      <td>0.000000</td>\n",
       "      <td>neutral</td>\n",
       "    </tr>\n",
       "    <tr>\n",
       "      <th>46</th>\n",
       "      <td>rt beechschocolate win box chocolate simply pi...</td>\n",
       "      <td>24</td>\n",
       "      <td>144</td>\n",
       "      <td>5.041667</td>\n",
       "      <td>6</td>\n",
       "      <td>3</td>\n",
       "      <td>0</td>\n",
       "      <td>2</td>\n",
       "      <td>0.162500</td>\n",
       "      <td>positive</td>\n",
       "    </tr>\n",
       "    <tr>\n",
       "      <th>48</th>\n",
       "      <td>everything world</td>\n",
       "      <td>5</td>\n",
       "      <td>33</td>\n",
       "      <td>5.800000</td>\n",
       "      <td>1</td>\n",
       "      <td>0</td>\n",
       "      <td>0</td>\n",
       "      <td>0</td>\n",
       "      <td>0.000000</td>\n",
       "      <td>neutral</td>\n",
       "    </tr>\n",
       "    <tr>\n",
       "      <th>49</th>\n",
       "      <td>rt colinkahl german foreign minister identifie...</td>\n",
       "      <td>17</td>\n",
       "      <td>140</td>\n",
       "      <td>7.294118</td>\n",
       "      <td>1</td>\n",
       "      <td>0</td>\n",
       "      <td>0</td>\n",
       "      <td>1</td>\n",
       "      <td>0.168750</td>\n",
       "      <td>positive</td>\n",
       "    </tr>\n",
       "    <tr>\n",
       "      <th>50</th>\n",
       "      <td>rt barcacentre oliver kahn exgermany goalkeepe...</td>\n",
       "      <td>23</td>\n",
       "      <td>140</td>\n",
       "      <td>5.130435</td>\n",
       "      <td>5</td>\n",
       "      <td>0</td>\n",
       "      <td>0</td>\n",
       "      <td>3</td>\n",
       "      <td>0.000000</td>\n",
       "      <td>neutral</td>\n",
       "    </tr>\n",
       "    <tr>\n",
       "      <th>51</th>\n",
       "      <td>rt mxryse easy hide behind phone screen act li...</td>\n",
       "      <td>25</td>\n",
       "      <td>139</td>\n",
       "      <td>4.600000</td>\n",
       "      <td>6</td>\n",
       "      <td>0</td>\n",
       "      <td>0</td>\n",
       "      <td>2</td>\n",
       "      <td>0.177778</td>\n",
       "      <td>positive</td>\n",
       "    </tr>\n",
       "    <tr>\n",
       "      <th>53</th>\n",
       "      <td>rt shaykhazhar dont stress allah want somethin...</td>\n",
       "      <td>23</td>\n",
       "      <td>142</td>\n",
       "      <td>4.640000</td>\n",
       "      <td>10</td>\n",
       "      <td>0</td>\n",
       "      <td>0</td>\n",
       "      <td>1</td>\n",
       "      <td>0.000000</td>\n",
       "      <td>neutral</td>\n",
       "    </tr>\n",
       "    <tr>\n",
       "      <th>54</th>\n",
       "      <td>rt okwonga football nation rapper uruguay woul...</td>\n",
       "      <td>21</td>\n",
       "      <td>140</td>\n",
       "      <td>5.714286</td>\n",
       "      <td>5</td>\n",
       "      <td>0</td>\n",
       "      <td>0</td>\n",
       "      <td>2</td>\n",
       "      <td>0.000000</td>\n",
       "      <td>neutral</td>\n",
       "    </tr>\n",
       "    <tr>\n",
       "      <th>56</th>\n",
       "      <td>rt _thtblasiangirl traveling world httpstconiu...</td>\n",
       "      <td>8</td>\n",
       "      <td>75</td>\n",
       "      <td>8.500000</td>\n",
       "      <td>2</td>\n",
       "      <td>0</td>\n",
       "      <td>0</td>\n",
       "      <td>1</td>\n",
       "      <td>0.000000</td>\n",
       "      <td>neutral</td>\n",
       "    </tr>\n",
       "    <tr>\n",
       "      <th>57</th>\n",
       "      <td>sob1991 world cup foh</td>\n",
       "      <td>4</td>\n",
       "      <td>22</td>\n",
       "      <td>4.750000</td>\n",
       "      <td>0</td>\n",
       "      <td>0</td>\n",
       "      <td>0</td>\n",
       "      <td>0</td>\n",
       "      <td>0.000000</td>\n",
       "      <td>neutral</td>\n",
       "    </tr>\n",
       "    <tr>\n",
       "      <th>58</th>\n",
       "      <td>rt realdonaldtrump congratulation danny tarkan...</td>\n",
       "      <td>23</td>\n",
       "      <td>140</td>\n",
       "      <td>5.130435</td>\n",
       "      <td>6</td>\n",
       "      <td>0</td>\n",
       "      <td>0</td>\n",
       "      <td>2</td>\n",
       "      <td>0.341667</td>\n",
       "      <td>positive</td>\n",
       "    </tr>\n",
       "    <tr>\n",
       "      <th>59</th>\n",
       "      <td>rt director4u2c love sexy sunday iamcaroortiz ...</td>\n",
       "      <td>16</td>\n",
       "      <td>141</td>\n",
       "      <td>7.875000</td>\n",
       "      <td>0</td>\n",
       "      <td>11</td>\n",
       "      <td>0</td>\n",
       "      <td>1</td>\n",
       "      <td>0.378788</td>\n",
       "      <td>positive</td>\n",
       "    </tr>\n",
       "    <tr>\n",
       "      <th>60</th>\n",
       "      <td>rt stephenablack stared television watching la...</td>\n",
       "      <td>21</td>\n",
       "      <td>139</td>\n",
       "      <td>5.318182</td>\n",
       "      <td>6</td>\n",
       "      <td>0</td>\n",
       "      <td>0</td>\n",
       "      <td>2</td>\n",
       "      <td>0.500000</td>\n",
       "      <td>strongly negative</td>\n",
       "    </tr>\n",
       "    <tr>\n",
       "      <th>61</th>\n",
       "      <td>tinder thing meeting kubernetes folk around wo...</td>\n",
       "      <td>22</td>\n",
       "      <td>139</td>\n",
       "      <td>5.363636</td>\n",
       "      <td>8</td>\n",
       "      <td>0</td>\n",
       "      <td>0</td>\n",
       "      <td>1</td>\n",
       "      <td>0.000000</td>\n",
       "      <td>neutral</td>\n",
       "    </tr>\n",
       "    <tr>\n",
       "      <th>62</th>\n",
       "      <td>rt epn north america host 2026 worldcup united...</td>\n",
       "      <td>16</td>\n",
       "      <td>122</td>\n",
       "      <td>7.133333</td>\n",
       "      <td>2</td>\n",
       "      <td>3</td>\n",
       "      <td>1</td>\n",
       "      <td>2</td>\n",
       "      <td>0.000000</td>\n",
       "      <td>neutral</td>\n",
       "    </tr>\n",
       "    <tr>\n",
       "      <th>63</th>\n",
       "      <td>rt owldrood 50 follower art raffle big thank g...</td>\n",
       "      <td>25</td>\n",
       "      <td>152</td>\n",
       "      <td>4.666667</td>\n",
       "      <td>7</td>\n",
       "      <td>0</td>\n",
       "      <td>0</td>\n",
       "      <td>2</td>\n",
       "      <td>0.400000</td>\n",
       "      <td>positive</td>\n",
       "    </tr>\n",
       "    <tr>\n",
       "      <th>64</th>\n",
       "      <td>rt coneyzz hollow knight best metroidvania eve...</td>\n",
       "      <td>23</td>\n",
       "      <td>140</td>\n",
       "      <td>5.130435</td>\n",
       "      <td>8</td>\n",
       "      <td>0</td>\n",
       "      <td>0</td>\n",
       "      <td>2</td>\n",
       "      <td>0.020000</td>\n",
       "      <td>positive</td>\n",
       "    </tr>\n",
       "    <tr>\n",
       "      <th>66</th>\n",
       "      <td>please join league world cup top league win ch...</td>\n",
       "      <td>26</td>\n",
       "      <td>140</td>\n",
       "      <td>4.423077</td>\n",
       "      <td>12</td>\n",
       "      <td>0</td>\n",
       "      <td>0</td>\n",
       "      <td>0</td>\n",
       "      <td>0.650000</td>\n",
       "      <td>strongly positive</td>\n",
       "    </tr>\n",
       "    <tr>\n",
       "      <th>67</th>\n",
       "      <td>rt jacobsoboroff finished tour dont even know ...</td>\n",
       "      <td>24</td>\n",
       "      <td>139</td>\n",
       "      <td>4.750000</td>\n",
       "      <td>9</td>\n",
       "      <td>0</td>\n",
       "      <td>0</td>\n",
       "      <td>1</td>\n",
       "      <td>0.250000</td>\n",
       "      <td>positive</td>\n",
       "    </tr>\n",
       "    <tr>\n",
       "      <th>68</th>\n",
       "      <td>love httpstcogupl1dvsdx</td>\n",
       "      <td>3</td>\n",
       "      <td>34</td>\n",
       "      <td>10.666667</td>\n",
       "      <td>1</td>\n",
       "      <td>0</td>\n",
       "      <td>0</td>\n",
       "      <td>0</td>\n",
       "      <td>0.500000</td>\n",
       "      <td>strongly negative</td>\n",
       "    </tr>\n",
       "    <tr>\n",
       "      <th>70</th>\n",
       "      <td>rt demwrite wisconsin governor scott walker tr...</td>\n",
       "      <td>21</td>\n",
       "      <td>140</td>\n",
       "      <td>5.363636</td>\n",
       "      <td>5</td>\n",
       "      <td>0</td>\n",
       "      <td>0</td>\n",
       "      <td>1</td>\n",
       "      <td>0.357143</td>\n",
       "      <td>positive</td>\n",
       "    </tr>\n",
       "    <tr>\n",
       "      <th>72</th>\n",
       "      <td>rt fifaworldcup 2018 fifa worldcup finally mat...</td>\n",
       "      <td>16</td>\n",
       "      <td>138</td>\n",
       "      <td>6.555556</td>\n",
       "      <td>1</td>\n",
       "      <td>5</td>\n",
       "      <td>1</td>\n",
       "      <td>5</td>\n",
       "      <td>0.000000</td>\n",
       "      <td>neutral</td>\n",
       "    </tr>\n",
       "    <tr>\n",
       "      <th>73</th>\n",
       "      <td>rt vuhsace world cup really start tomorrow lma...</td>\n",
       "      <td>15</td>\n",
       "      <td>82</td>\n",
       "      <td>4.533333</td>\n",
       "      <td>0</td>\n",
       "      <td>0</td>\n",
       "      <td>0</td>\n",
       "      <td>7</td>\n",
       "      <td>-0.100000</td>\n",
       "      <td>negative</td>\n",
       "    </tr>\n",
       "    <tr>\n",
       "      <th>74</th>\n",
       "      <td>day 2008 joeylogano scored 1st career nascar n...</td>\n",
       "      <td>18</td>\n",
       "      <td>130</td>\n",
       "      <td>6.277778</td>\n",
       "      <td>4</td>\n",
       "      <td>1</td>\n",
       "      <td>0</td>\n",
       "      <td>2</td>\n",
       "      <td>0.800000</td>\n",
       "      <td>strongly positive</td>\n",
       "    </tr>\n",
       "    <tr>\n",
       "      <th>75</th>\n",
       "      <td>rt clintonviceb world cup finally rt happy</td>\n",
       "      <td>12</td>\n",
       "      <td>71</td>\n",
       "      <td>4.461538</td>\n",
       "      <td>4</td>\n",
       "      <td>0</td>\n",
       "      <td>0</td>\n",
       "      <td>2</td>\n",
       "      <td>0.800000</td>\n",
       "      <td>strongly positive</td>\n",
       "    </tr>\n",
       "    <tr>\n",
       "      <th>77</th>\n",
       "      <td>blockchain driven travel amp loyalty ecosystem...</td>\n",
       "      <td>18</td>\n",
       "      <td>144</td>\n",
       "      <td>7.055556</td>\n",
       "      <td>0</td>\n",
       "      <td>0</td>\n",
       "      <td>0</td>\n",
       "      <td>1</td>\n",
       "      <td>0.177083</td>\n",
       "      <td>positive</td>\n",
       "    </tr>\n",
       "  </tbody>\n",
       "</table>\n",
       "</div>"
      ],
      "text/plain": [
       "                                                 text  word_count  char_count  \\\n",
       "21  rt saudint_en moscow green rusksa worldcupruss...          10         100   \n",
       "30  rt saudint_en moscow green rusksa worldcupruss...          10         100   \n",
       "42  rt thetotallyshow competition worldcup kick to...          21         142   \n",
       "44  rt __yxsmeen u matured early life showed u wor...          21         106   \n",
       "45  rt hashmizikra colorlines namirari ah yes worl...          13          95   \n",
       "46  rt beechschocolate win box chocolate simply pi...          24         144   \n",
       "48                                   everything world           5          33   \n",
       "49  rt colinkahl german foreign minister identifie...          17         140   \n",
       "50  rt barcacentre oliver kahn exgermany goalkeepe...          23         140   \n",
       "51  rt mxryse easy hide behind phone screen act li...          25         139   \n",
       "53  rt shaykhazhar dont stress allah want somethin...          23         142   \n",
       "54  rt okwonga football nation rapper uruguay woul...          21         140   \n",
       "56  rt _thtblasiangirl traveling world httpstconiu...           8          75   \n",
       "57                              sob1991 world cup foh           4          22   \n",
       "58  rt realdonaldtrump congratulation danny tarkan...          23         140   \n",
       "59  rt director4u2c love sexy sunday iamcaroortiz ...          16         141   \n",
       "60  rt stephenablack stared television watching la...          21         139   \n",
       "61  tinder thing meeting kubernetes folk around wo...          22         139   \n",
       "62  rt epn north america host 2026 worldcup united...          16         122   \n",
       "63  rt owldrood 50 follower art raffle big thank g...          25         152   \n",
       "64  rt coneyzz hollow knight best metroidvania eve...          23         140   \n",
       "66  please join league world cup top league win ch...          26         140   \n",
       "67  rt jacobsoboroff finished tour dont even know ...          24         139   \n",
       "68                            love httpstcogupl1dvsdx           3          34   \n",
       "70  rt demwrite wisconsin governor scott walker tr...          21         140   \n",
       "72  rt fifaworldcup 2018 fifa worldcup finally mat...          16         138   \n",
       "73  rt vuhsace world cup really start tomorrow lma...          15          82   \n",
       "74  day 2008 joeylogano scored 1st career nascar n...          18         130   \n",
       "75         rt clintonviceb world cup finally rt happy          12          71   \n",
       "77  blockchain driven travel amp loyalty ecosystem...          18         144   \n",
       "\n",
       "     avg_word  stopwords  hastags  numerics  upper  sentiment  \\\n",
       "21   8.000000          0        2         0      2  -0.200000   \n",
       "30   8.000000          0        2         0      2  -0.200000   \n",
       "42   5.454545          2        1         1      3   0.000000   \n",
       "44   4.095238          7        0         0      1  -0.266667   \n",
       "45   6.384615          3        0         0      1   0.000000   \n",
       "46   5.041667          6        3         0      2   0.162500   \n",
       "48   5.800000          1        0         0      0   0.000000   \n",
       "49   7.294118          1        0         0      1   0.168750   \n",
       "50   5.130435          5        0         0      3   0.000000   \n",
       "51   4.600000          6        0         0      2   0.177778   \n",
       "53   4.640000         10        0         0      1   0.000000   \n",
       "54   5.714286          5        0         0      2   0.000000   \n",
       "56   8.500000          2        0         0      1   0.000000   \n",
       "57   4.750000          0        0         0      0   0.000000   \n",
       "58   5.130435          6        0         0      2   0.341667   \n",
       "59   7.875000          0       11         0      1   0.378788   \n",
       "60   5.318182          6        0         0      2   0.500000   \n",
       "61   5.363636          8        0         0      1   0.000000   \n",
       "62   7.133333          2        3         1      2   0.000000   \n",
       "63   4.666667          7        0         0      2   0.400000   \n",
       "64   5.130435          8        0         0      2   0.020000   \n",
       "66   4.423077         12        0         0      0   0.650000   \n",
       "67   4.750000          9        0         0      1   0.250000   \n",
       "68  10.666667          1        0         0      0   0.500000   \n",
       "70   5.363636          5        0         0      1   0.357143   \n",
       "72   6.555556          1        5         1      5   0.000000   \n",
       "73   4.533333          0        0         0      7  -0.100000   \n",
       "74   6.277778          4        1         0      2   0.800000   \n",
       "75   4.461538          4        0         0      2   0.800000   \n",
       "77   7.055556          0        0         0      1   0.177083   \n",
       "\n",
       "                label  \n",
       "21           negative  \n",
       "30           negative  \n",
       "42            neutral  \n",
       "44           negative  \n",
       "45            neutral  \n",
       "46           positive  \n",
       "48            neutral  \n",
       "49           positive  \n",
       "50            neutral  \n",
       "51           positive  \n",
       "53            neutral  \n",
       "54            neutral  \n",
       "56            neutral  \n",
       "57            neutral  \n",
       "58           positive  \n",
       "59           positive  \n",
       "60  strongly negative  \n",
       "61            neutral  \n",
       "62            neutral  \n",
       "63           positive  \n",
       "64           positive  \n",
       "66  strongly positive  \n",
       "67           positive  \n",
       "68  strongly negative  \n",
       "70           positive  \n",
       "72            neutral  \n",
       "73           negative  \n",
       "74  strongly positive  \n",
       "75  strongly positive  \n",
       "77           positive  "
      ]
     },
     "execution_count": 32,
     "metadata": {},
     "output_type": "execute_result"
    }
   ],
   "source": [
    "df.head(30)"
   ]
  },
  {
   "cell_type": "code",
   "execution_count": 37,
   "metadata": {},
   "outputs": [
    {
     "data": {
      "image/png": "[encoded data removed]",
      "text/plain": [
       "<Figure size 1152x360 with 1 Axes>"
      ]
     },
     "metadata": {},
     "output_type": "display_data"
    }
   ],
   "source": [
    "Sentiment_analysis = df['label'].value_counts(ascending=True)\n",
    "\n",
    "fig, ax = plt.subplots()\n",
    "\n",
    "ax.tick_params(axis='x', labelsize=15)\n",
    "ax.tick_params(axis='y', labelsize=10)\n",
    "ax.set_ylabel('Sentiment', fontsize=15)\n",
    "ax.set_xlabel('Number of Tweets' , fontsize=15)\n",
    "ax.set_title('Sentiment Analysis', fontsize=15, fontweight='bold')\n",
    "Sentiment_analysis[:].plot(ax=ax, kind='barh', color=['black','red','green','blue','orange'],figsize=(16,5))\n",
    "plt.savefig('Sentiment_analysis.jpg',bbox_inches='tight', pad_inches=0.3);"
   ]
  },
  {
   "cell_type": "code",
   "execution_count": null,
   "metadata": {},
   "outputs": [],
   "source": []
  }
 ],
 "metadata": {
  "kernelspec": {
   "display_name": "Python 2",
   "language": "python",
   "name": "python2"
  },
  "language_info": {
   "codemirror_mode": {
    "name": "ipython",
    "version": 2
   },
   "file_extension": ".py",
   "mimetype": "text/x-python",
   "name": "python",
   "nbconvert_exporter": "python",
   "pygments_lexer": "ipython2",
   "version": "2.7.15"
  }
 },
 "nbformat": 4,
 "nbformat_minor": 2
}
